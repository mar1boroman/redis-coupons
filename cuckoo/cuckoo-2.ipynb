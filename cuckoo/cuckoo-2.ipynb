{
 "cells": [
  {
   "cell_type": "code",
   "execution_count": null,
   "metadata": {},
   "outputs": [],
   "source": [
    "import json\n",
    "import redis\n",
    "import os\n",
    "from dotenv import load_dotenv\n",
    "load_dotenv()\n",
    "from redisvl.index import SearchIndex"
   ]
  },
  {
   "cell_type": "code",
   "execution_count": null,
   "metadata": {},
   "outputs": [],
   "source": [
    "r = redis.Redis(host=os.environ.get('host'), port=os.environ.get('port'), decode_responses=True)\n",
    "p = r.pipeline()\n",
    "if r.ping() : print('Connected to Redis')\n",
    "r.flushdb()"
   ]
  },
  {
   "cell_type": "code",
   "execution_count": null,
   "metadata": {},
   "outputs": [],
   "source": [
    "schema = {\n",
    "    \"index\": {\n",
    "        \"name\": \"idx:users\",\n",
    "        \"prefix\": \"user\",\n",
    "        \"storage_type\": \"json\"\n",
    "    },\n",
    "    \"fields\": [\n",
    "        {\"name\": \"userid\", \"type\": \"numeric\"},\n",
    "        {\"name\": \"username\", \"type\": \"tag\"},\n",
    "        {\"name\": \"categories_purchased\", \"type\": \"tag\", \"attrs\" : {\"seperator\" : \",\"}}]\n",
    "}\n",
    "\n",
    "index = SearchIndex.from_dict(schema)\n",
    "index.set_client(r)\n",
    "index.create(overwrite=True)"
   ]
  },
  {
   "cell_type": "code",
   "execution_count": null,
   "metadata": {},
   "outputs": [],
   "source": [
    "with open('users.json', \"r\") as file:\n",
    "    data = json.load(file)\n",
    "for user in data:\n",
    "    user['categories_purchased'] = \",\".join(user['categories_purchased'])\n",
    "keys  = index.load(data)"
   ]
  },
  {
   "cell_type": "code",
   "execution_count": null,
   "metadata": {},
   "outputs": [],
   "source": [
    "# FT.TAGVALS 'idx:users' categories_purchased\n",
    "\n",
    "idx_products = r.ft(\"idx:users\")\n",
    "categories = idx_products.tagvals('categories_purchased')\n",
    "print(categories)"
   ]
  },
  {
   "cell_type": "code",
   "execution_count": null,
   "metadata": {},
   "outputs": [],
   "source": [
    "# Target all users who have purchased electronics & add them to a cuckoo filter\n",
    "r.cf().reserve(key='target_users', capacity=1000000)\n",
    "\n",
    "idx_products = r.ft(\"idx:users\")\n",
    "results = idx_products.search(query=\"@categories_purchased:{electronics}\")\n",
    "# print(results)\n",
    "\n",
    "# Iterate through the results\n",
    "for doc in results.docs:\n",
    "    # print(f\"Document ID: {doc.id}\")\n",
    "    for field, value in doc.__dict__.items():\n",
    "        if field.startswith('json'):  # Exclude internal attributes\n",
    "            value = json.loads(value)\n",
    "            print(value['userid'])\n",
    "            r.cf().add(key='target_users',item=value['userid'])"
   ]
  },
  {
   "cell_type": "code",
   "execution_count": null,
   "metadata": {},
   "outputs": [],
   "source": [
    "# A user logs in\n",
    "\n",
    "incoming_user_id = 50\n",
    "\n",
    "result = r.cf().exists(key=\"target_users\", item=incoming_user_id)\n",
    "\n",
    "if result:\n",
    "    print(\"The user may be targetted, show the ad\")\n",
    "    print(f\"Assume, the incoming user {incoming_user_id} signs up, then delete the user from cuckoo filter\")\n",
    "    r.cf().delete(key='target_users', item=incoming_user_id)\n",
    "else:\n",
    "    print(f\"The user {incoming_user_id} is not targetted or has already signed up for the campaign\")"
   ]
  },
  {
   "cell_type": "code",
   "execution_count": null,
   "metadata": {},
   "outputs": [],
   "source": [
    "result = r.cf().info(key='target_users')\n",
    "\n",
    "print(result['insertedNum'])"
   ]
  }
 ],
 "metadata": {
  "kernelspec": {
   "display_name": "venv",
   "language": "python",
   "name": "python3"
  },
  "language_info": {
   "codemirror_mode": {
    "name": "ipython",
    "version": 3
   },
   "file_extension": ".py",
   "mimetype": "text/x-python",
   "name": "python",
   "nbconvert_exporter": "python",
   "pygments_lexer": "ipython3",
   "version": "3.8.10"
  }
 },
 "nbformat": 4,
 "nbformat_minor": 2
}
