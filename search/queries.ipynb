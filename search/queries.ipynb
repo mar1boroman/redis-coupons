{
 "cells": [
  {
   "cell_type": "code",
   "execution_count": null,
   "metadata": {},
   "outputs": [],
   "source": [
    "import json\n",
    "import redis\n",
    "import os\n",
    "from dotenv import load_dotenv\n",
    "load_dotenv()\n",
    "from redisvl.utils.vectorize import OpenAITextVectorizer\n",
    "from redisvl.index import SearchIndex"
   ]
  },
  {
   "cell_type": "code",
   "execution_count": null,
   "metadata": {},
   "outputs": [],
   "source": [
    "# Global Variables\n",
    "oai = OpenAITextVectorizer(\n",
    "    model=\"text-embedding-ada-002\",\n",
    "    api_config={\"api_key\": os.environ.get('open_ai_api_key')},\n",
    ")\n",
    "r = redis.Redis(host=os.environ.get('host'), port=os.environ.get('port'), decode_responses=True)\n",
    "p = r.pipeline()\n",
    "if r.ping() : print('Connected to Redis')\n",
    "r.flushdb()"
   ]
  },
  {
   "cell_type": "code",
   "execution_count": null,
   "metadata": {},
   "outputs": [],
   "source": [
    "schema = {\n",
    "    \"index\": {\n",
    "        \"name\": \"idx:products\",\n",
    "        \"prefix\": \"product\",\n",
    "        \"storage_type\": \"json\"\n",
    "    },\n",
    "    \"fields\": [\n",
    "        {\"name\": \"title\", \"type\": \"text\"},\n",
    "        {\"name\": \"description\", \"type\": \"text\"},\n",
    "        {\"name\": \"price\", \"type\": \"numeric\"},\n",
    "        {\"name\": \"product_category\", \"type\": \"tag\"},\n",
    "        {\"name\": \"product_subcategories\", \"type\": \"tag\", \"attrs\" : {\"seperator\" : \",\"}},\n",
    "        {\"name\": \"geo\", \"type\": \"geo\"},\n",
    "        {\"name\": \"SKU\", \"type\": \"tag\"},\n",
    "        {\"name\": \"vendor_code\", \"type\": \"tag\"},\n",
    "        {\"name\": \"address.city\", \"type\": \"tag\"},\n",
    "        {\"name\": \"address.state\", \"type\": \"tag\"},\n",
    "        {\n",
    "            \"name\": \"embedding\",\n",
    "            \"type\": \"vector\",\n",
    "            \"attrs\": {\n",
    "                \"algorithm\": \"flat\",\n",
    "                \"datatype\": \"float32\",\n",
    "                \"dims\": 1536,\n",
    "                \"distance_metric\": \"cosine\"\n",
    "            }\n",
    "        }\n",
    "    ]\n",
    "}\n",
    "\n",
    "index = SearchIndex.from_dict(schema)\n",
    "index.set_client(r)\n",
    "index.create(overwrite=True)"
   ]
  },
  {
   "cell_type": "code",
   "execution_count": null,
   "metadata": {},
   "outputs": [],
   "source": [
    "with open('products.json', \"r\") as file:\n",
    "    data = json.load(file)\n",
    "\n",
    "transformed_data = [item[\"product\"] for item in data]\n",
    "\n",
    "to_load = []\n",
    "for product in transformed_data:\n",
    "    product['embedding'] = oai.embed(product['description'])\n",
    "    product['geo'] = \",\".join(map(str, product['geo']))\n",
    "    to_load.append(product)"
   ]
  },
  {
   "cell_type": "code",
   "execution_count": null,
   "metadata": {},
   "outputs": [],
   "source": [
    "keys  = index.load(to_load)"
   ]
  },
  {
   "cell_type": "markdown",
   "metadata": {},
   "source": [
    "# Category Search"
   ]
  },
  {
   "cell_type": "code",
   "execution_count": null,
   "metadata": {},
   "outputs": [],
   "source": [
    "# FT.SEARCH idx:products \"@product_category:{Electronics}\" RETURN 2 title product_subcategories\n",
    "\n",
    "idx_products = r.ft(\"idx:products\")\n",
    "category_search_results = idx_products.search(query=\"@product_category:{Electronics}\")\n",
    "print(category_search_results)"
   ]
  },
  {
   "cell_type": "markdown",
   "metadata": {},
   "source": [
    "# Full Text Search Match"
   ]
  },
  {
   "cell_type": "code",
   "execution_count": null,
   "metadata": {},
   "outputs": [],
   "source": [
    "# FT.SEARCH idx:products \"VacayTravel\" RETURN 2 title description\n",
    "\n",
    "idx_products = r.ft(\"idx:products\")\n",
    "full_text_search_results = idx_products.search(query=\"VacayTravel\")\n",
    "print(full_text_search_results)"
   ]
  },
  {
   "cell_type": "markdown",
   "metadata": {},
   "source": [
    "# Fuzzy Match"
   ]
  },
  {
   "cell_type": "code",
   "execution_count": null,
   "metadata": {},
   "outputs": [],
   "source": [
    "# FT.SEARCH idx:products \"%KoolPro%\" RETURN 2 title description\n",
    "\n",
    "idx_products = r.ft(\"idx:products\")\n",
    "fuzzy_search_results = idx_products.search(query=\"%KoolPro%\")\n",
    "print(fuzzy_search_results)"
   ]
  },
  {
   "cell_type": "markdown",
   "metadata": {},
   "source": [
    "# Geo based queries"
   ]
  },
  {
   "cell_type": "code",
   "execution_count": null,
   "metadata": {},
   "outputs": [],
   "source": [
    "# FT.SEARCH idx:products \"@location:[12.964175 77.601944 15 km]\" RETURN 2 title city\n",
    "\n",
    "idx_products = r.ft(\"idx:products\")\n",
    "geo_search_results = idx_products.search(query=\"@geo:[12.964175 77.601944 15 km]\")\n",
    "print(geo_search_results)"
   ]
  },
  {
   "cell_type": "code",
   "execution_count": null,
   "metadata": {},
   "outputs": [],
   "source": [
    "# FT.AGGREGATE idx:products \"@geo:[12.964175 77.601944 15 km]\"\n",
    "#     GROUPBY 1 @address.city  \n",
    "#     REDUCE COUNT 0 as Count"
   ]
  },
  {
   "cell_type": "markdown",
   "metadata": {},
   "source": [
    "# Vector Similarity Match"
   ]
  },
  {
   "cell_type": "code",
   "execution_count": null,
   "metadata": {},
   "outputs": [],
   "source": [
    "from redisvl.query import RangeQuery\n",
    "\n",
    "# use the HuggingFace vectorizer again to create a query embedding\n",
    "query_embedding = oai.embed(\"Gym equipment for training\")\n",
    "\n",
    "query = RangeQuery(\n",
    "    vector=query_embedding,\n",
    "    vector_field_name=\"embedding\",\n",
    "    return_fields=[\"title\", \"description\"],\n",
    "    num_results=3,\n",
    "    distance_threshold=0.2\n",
    ")\n",
    "\n",
    "results = index.query(query)\n",
    "for doc in results:\n",
    "    print(doc['title'])\n",
    "    print(doc['description'])\n",
    "    print(doc['vector_distance'])\n",
    "    print(\"\")"
   ]
  }
 ],
 "metadata": {
  "kernelspec": {
   "display_name": "venv",
   "language": "python",
   "name": "python3"
  },
  "language_info": {
   "codemirror_mode": {
    "name": "ipython",
    "version": 3
   },
   "file_extension": ".py",
   "mimetype": "text/x-python",
   "name": "python",
   "nbconvert_exporter": "python",
   "pygments_lexer": "ipython3",
   "version": "3.8.10"
  }
 },
 "nbformat": 4,
 "nbformat_minor": 2
}
